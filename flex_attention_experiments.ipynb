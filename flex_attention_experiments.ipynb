{
 "cells": [
  {
   "cell_type": "markdown",
   "id": "32db8ff2-7fed-4147-8ca8-ab4664567df2",
   "metadata": {},
   "source": [
    "# Porting DAG into flex attention mask_mod function"
   ]
  },
  {
   "cell_type": "code",
   "execution_count": 2,
   "id": "5cd9bb90-21e5-43ae-850d-efc24bdd24b5",
   "metadata": {},
   "outputs": [],
   "source": [
    "import torch\n",
    "import torch.nn.functional as F\n",
    "\n",
    "from torch.nn.attention.flex_attention import (\n",
    "    create_mask,\n",
    "    flex_attention,\n",
    ")"
   ]
  },
  {
   "cell_type": "code",
   "execution_count": 3,
   "id": "a8520bbe-608f-4bba-a40e-2f1967d9c126",
   "metadata": {},
   "outputs": [],
   "source": [
    "def build_adjacency_matrix(nodes):\n",
    "    node_to_index = {node.id: idx for idx, node in enumerate(nodes)}\n",
    "    n = len(nodes)\n",
    "    \n",
    "    # Initialize adjacency matrix with zeros\n",
    "    adj_matrix = [[0] * n for _ in range(n)]\n",
    "    for i in range(n):\n",
    "        adj_matrix[i][i] = 1\n",
    "    # Fill the adjacency matrix\n",
    "    for node in nodes:\n",
    "        current_idx = node_to_index[node.id]\n",
    "        for parent in node.parents:\n",
    "            parent_idx = node_to_index[parent.id]\n",
    "            # Mark edge from parent to current node\n",
    "            adj_matrix[current_idx][parent_idx] = 1\n",
    "    \n",
    "    return adj_matrix"
   ]
  },
  {
   "cell_type": "code",
   "execution_count": 1,
   "id": "e41b2dbe-269c-4bfd-b27c-ea98b8ddf352",
   "metadata": {},
   "outputs": [
    {
     "name": "stderr",
     "output_type": "stream",
     "text": [
      "/home/xwang3_umass_edu/work/anaconda3/lib/python3.9/site-packages/transformers/utils/hub.py:128: FutureWarning: Using `TRANSFORMERS_CACHE` is deprecated and will be removed in v5 of Transformers. Use `HF_HOME` instead.\n",
      "  warnings.warn(\n"
     ]
    }
   ],
   "source": [
    "from node import ICLNode, upstream_nodes, print_dag, build_attention_matrix, prepare_inputs\n",
    "from viz_utils import visualize_attention_matrix\n",
    "from transformers import AutoModelForCausalLM, AutoTokenizer\n",
    "\n",
    "model_id = \"meta-llama/Meta-Llama-3-8B-Instruct\"\n",
    "tokenizer = AutoTokenizer.from_pretrained(model_id)"
   ]
  },
  {
   "cell_type": "markdown",
   "id": "a5707328-023c-4756-870e-9ee5512b5240",
   "metadata": {},
   "source": [
    "Generate an attention matrix with a binary matrix"
   ]
  },
  {
   "cell_type": "code",
   "execution_count": 4,
   "id": "661c67f7-4342-4930-ac71-3d2f3bcc6be7",
   "metadata": {},
   "outputs": [
    {
     "data": {
      "image/png": "[encoded data removed]",
      "text/plain": [
       "<Figure size 540x540 with 225 Axes>"
      ]
     },
     "metadata": {},
     "output_type": "display_data"
    }
   ],
   "source": [
    "X1 = ICLNode('example1.', id='X1')\n",
    "X2 = ICLNode('example2.', parents=[X1], id='X2')\n",
    "X3 = ICLNode('example3.', parents=[X2], id='X3')\n",
    "Q = ICLNode('What does the fox say?', parents=[X3], id='Q')\n",
    "\n",
    "attention_mask, all_nodes, start_end_pos, names = build_attention_matrix(Q, tokenizer)\n",
    "visualize_attention_matrix(attention_mask, start_end_pos, names, size_ratio=0.5)"
   ]
  },
  {
   "cell_type": "markdown",
   "id": "38f8c1ec-0c4f-44c5-880e-2294c503aa95",
   "metadata": {},
   "source": [
    "Turn the DAG into a mask_mod function of signature `mask_mod(b, h, q_idx, kv_idx) => bool\n",
    "`"
   ]
  },
  {
   "cell_type": "code",
   "execution_count": 6,
   "id": "4db21959-3f59-48e0-a672-7ac116f5a334",
   "metadata": {},
   "outputs": [],
   "source": [
    "def _offsets_to_doc_ids_tensor(offsets):\n",
    "    device = offsets.device\n",
    "    counts = offsets[1:] - offsets[:-1]\n",
    "    return torch.repeat_interleave(\n",
    "        torch.arange(len(counts), device=device, dtype=torch.int32), counts\n",
    "    )\n",
    "\n",
    "\n",
    "def generate_flex_attention_mask(leaf_node, tokenizer):\n",
    "    _, all_nodes, start_end_pos, names = build_attention_matrix(leaf_node, tokenizer)\n",
    "    node_id = _offsets_to_doc_ids_tensor(torch.tensor([0] + [end for (start, end) in start_end_pos]))\n",
    "    adjancey_matrix = torch.tensor(build_adjacency_matrix(all_nodes), dtype=torch.int32)\n",
    "    def document_causal_mask(b, h, q_idx, kv_idx):\n",
    "        causal_mask = q_idx >= kv_idx\n",
    "        node_mask = adjancey_matrix[node_id[q_idx], node_id[kv_idx]]\n",
    "        return causal_mask & node_mask\n",
    "\n",
    "    return document_causal_mask"
   ]
  },
  {
   "cell_type": "code",
   "execution_count": 8,
   "id": "14877896-2235-46c1-8e3b-1a3f8be927f4",
   "metadata": {},
   "outputs": [
    {
     "name": "stdout",
     "output_type": "stream",
     "text": [
      "tensor([[[[1, 0, 0, 0, 0, 0, 0, 0, 0, 0, 0, 0, 0, 0, 0],\n",
      "          [1, 1, 0, 0, 0, 0, 0, 0, 0, 0, 0, 0, 0, 0, 0],\n",
      "          [1, 1, 1, 0, 0, 0, 0, 0, 0, 0, 0, 0, 0, 0, 0],\n",
      "          [1, 1, 1, 1, 0, 0, 0, 0, 0, 0, 0, 0, 0, 0, 0],\n",
      "          [1, 1, 1, 1, 1, 0, 0, 0, 0, 0, 0, 0, 0, 0, 0],\n",
      "          [1, 1, 1, 1, 1, 1, 0, 0, 0, 0, 0, 0, 0, 0, 0],\n",
      "          [0, 0, 0, 1, 1, 1, 1, 0, 0, 0, 0, 0, 0, 0, 0],\n",
      "          [0, 0, 0, 1, 1, 1, 1, 1, 0, 0, 0, 0, 0, 0, 0],\n",
      "          [0, 0, 0, 1, 1, 1, 1, 1, 1, 0, 0, 0, 0, 0, 0],\n",
      "          [0, 0, 0, 0, 0, 0, 1, 1, 1, 1, 0, 0, 0, 0, 0],\n",
      "          [0, 0, 0, 0, 0, 0, 1, 1, 1, 1, 1, 0, 0, 0, 0],\n",
      "          [0, 0, 0, 0, 0, 0, 1, 1, 1, 1, 1, 1, 0, 0, 0],\n",
      "          [0, 0, 0, 0, 0, 0, 1, 1, 1, 1, 1, 1, 1, 0, 0],\n",
      "          [0, 0, 0, 0, 0, 0, 1, 1, 1, 1, 1, 1, 1, 1, 0],\n",
      "          [0, 0, 0, 0, 0, 0, 1, 1, 1, 1, 1, 1, 1, 1, 1]]]], dtype=torch.int32)\n"
     ]
    }
   ],
   "source": [
    "mask_mod = generate_flex_attention_mask(Q, tokenizer)\n",
    "mask = create_mask(mask_mod, 1, 1, attention_mask.shape[0], attention_mask.shape[0], \"cpu\")\n",
    "print(mask)"
   ]
  },
  {
   "cell_type": "markdown",
   "id": "d0cd6cc0-9b68-47cb-a92a-33d33679d8f8",
   "metadata": {},
   "source": [
    "The mask we get is the same as the one constructed via LE ATTENTION's built-in function."
   ]
  }
 ],
 "metadata": {
  "kernelspec": {
   "display_name": "Python [conda env:anaconda3]",
   "language": "python",
   "name": "conda-env-anaconda3-py"
  },
  "language_info": {
   "codemirror_mode": {
    "name": "ipython",
    "version": 3
   },
   "file_extension": ".py",
   "mimetype": "text/x-python",
   "name": "python",
   "nbconvert_exporter": "python",
   "pygments_lexer": "ipython3",
   "version": "3.9.12"
  }
 },
 "nbformat": 4,
 "nbformat_minor": 5
}
